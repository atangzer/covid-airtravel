{
 "cells": [
  {
   "cell_type": "code",
   "execution_count": null,
   "metadata": {},
   "outputs": [],
   "source": [
    "import numpy as np\n",
    "import pandas as pd\n",
    "import matplotlib.pyplot as plt\n",
    "import geopandas as gpd\n",
    "import shapely\n",
    "import seaborn as sns\n",
    "from scipy import stats\n",
    "import datetime\n",
    "from sklearn.linear_model import LinearRegression\n",
    "from sklearn.pipeline import make_pipeline\n",
    "from sklearn.preprocessing import PolynomialFeatures\n",
    "from statsmodels.nonparametric.smoothers_lowess import lowess\n",
    "from sklearn.model_selection import train_test_split\n",
    "from sklearn.preprocessing import FunctionTransformer\n",
    "from sklearn.ensemble import RandomForestRegressor\n",
    "from sklearn.neighbors import KNeighborsRegressor\n",
    "from sklearn.ensemble import VotingClassifier\n",
    "from sklearn.preprocessing import MinMaxScaler\n",
    "from sklearn.ensemble import GradientBoostingRegressor\n",
    "sns.set()"
   ]
  },
  {
   "cell_type": "code",
   "execution_count": null,
   "metadata": {},
   "outputs": [],
   "source": [
    "#Build NA covid data for all airport comparisons\n",
    "# Build total + new NA cases\n",
    "NaData = pd.read_csv(\"Archieved-Data/casesNA.csv\", compression = 'gzip')\n",
    "NaData[\"Date\"] = pd.to_datetime(NaData[\"Date\"])\n",
    "NaSums = NaData.groupby(NaData['Date']).sum().reset_index()\n",
    "naCases = NaSums[['Date','Confirmed']]\n",
    "temp = naCases.shift(1)\n",
    "naCases['New'] = naCases['Confirmed'] - temp['Confirmed']\n",
    "naCases.loc[0,\"New\"] = 0\n",
    "new_cases_smooth = lowess(naCases['New'], naCases[\"Date\"], frac =0.05)\n",
    "confirm_smooth = lowess(naCases['Confirmed'], naCases[\"Date\"], frac =0.05)\n",
    "naCases['New_smooth'] = new_cases_smooth[:,1]\n",
    "naCases['Confirm_smooth'] = confirm_smooth[:,1]"
   ]
  },
  {
   "cell_type": "code",
   "execution_count": null,
   "metadata": {},
   "outputs": [],
   "source": [
    "yyz = pd.read_csv('yyz4analyze_both.csv',index_col =0, parse_dates = [1])\n",
    "yyzCases = pd.read_csv('Covid-Data/yyz-modified.csv', index_col =0, parse_dates = [5])\n",
    "\n",
    "yyz[\"Date\"] = pd.to_datetime(yyz[\"Date\"])\n",
    "yyzCases[\"Date\"] = pd.to_datetime(yyzCases[\"Date\"])\n",
    "\n",
    "yyzCases.loc[0, \"Difference\"] = 0"
   ]
  },
  {
   "cell_type": "code",
   "execution_count": null,
   "metadata": {},
   "outputs": [],
   "source": [
    "# baseline seems constant; except for the small dip in March\n",
    "# Find factors to attribute to the two curves - small bump in the summer?\n",
    "# The second one might be an instance to not increase flights to YYZ\n",
    "# lots of 0s in the beginning.... averaging or imputing the missing values might have been a good idea\n",
    "\n",
    "new_cases_smooth = lowess(yyzCases['Difference'], yyzCases[\"timestamp\"], frac =0.05)#,is_sorted = True, return_sorted=False)\n",
    "baseline_smooth = lowess(yyz['PercentOfBaseline'], yyz[\"Date\"], frac =0.04) #to reduce weekly cycle effect 7/214 = 0.327\n",
    "yyzCases['Diff_smooth'] = new_cases_smooth[:,1]\n",
    "yyz['Baseline_smooth'] = baseline_smooth[:,1]\n",
    "# Ensure both yul and yulCases start and end on the same dates\n",
    "if (yyz.count().loc['Date'] != yyzCases.count().loc['Date']):\n",
    "    joined = yyzCases[[\"Date\",\"Difference\",\"Confirmed\",\"Diff_smooth\"]].join(yyz[[\"Date\",\"PercentOfBaseline\",\"Baseline_smooth\"]].set_index('Date'), on='Date')\n",
    "    joined = joined.dropna()\n",
    "    X = joined[\"Diff_smooth\"]\n",
    "    y = joined[\"Baseline_smooth\"]\n",
    "else:\n",
    "    X = yyzCases[\"Diff_smooth\"]\n",
    "    y = yyz[\"Baseline_smooth\"]\n",
    "\n",
    "plt.figure(figsize = (20,5))\n",
    "plt.plot(yyz[\"Date\"], yyz['PercentOfBaseline'], 'b.', label = 'Percentage Baseline', alpha=0.4)\n",
    "plt.plot(yyz[\"Date\"], yyz['Baseline_smooth'],'b-',label = 'Smoothed % Baseline')\n",
    "plt.plot(yyzCases[\"Date\"], yyzCases[\"Diff_smooth\"], 'r-', label = 'Smoothed New Cases', alpha = 0.5)\n",
    "plt.plot(yyzCases[\"Date\"], yyzCases['Difference'], 'r.', label = 'New Cases', alpha = 0.4)\n",
    "plt.xlabel(\"Mid-March to Mid October\")\n",
    "plt.legend()\n",
    "plt.show()"
   ]
  },
  {
   "cell_type": "code",
   "execution_count": null,
   "metadata": {},
   "outputs": [],
   "source": [
    "# Find statistical correlation between the two values- Baseline, and New Cases, using the filtered data from above\n",
    "plt.plot(X,y, 'b.')\n",
    "plt.xlabel('New Cases per day')\n",
    "plt.ylabel('Baseline % of Airport Traffic')\n",
    "regression = stats.linregress(X, y)\n",
    "\n",
    "print(regression.rvalue)\n",
    "\n",
    "# 311 = max(X)\n",
    "linearX = np.linspace(0, max(X)) \n",
    "plt.plot(linearX, regression.slope*linearX + regression.intercept,'r-')\n",
    "\n",
    "# r-value: Slight but negligible correlation \n",
    "# imbalanced data??"
   ]
  },
  {
   "cell_type": "code",
   "execution_count": null,
   "metadata": {},
   "outputs": [],
   "source": [
    "# Repeat for Number of Confirmed Patients\n",
    "confirm_smooth = lowess(joined['Confirmed'], joined[\"Date\"], frac =0.04)\n",
    "# to reduce weekly cycle effect 7/214 = 0.327\n",
    "confirmX = confirm_smooth[:,1]\n",
    "plt.plot(confirmX,y, 'b.')\n",
    "plt.xlabel('Total Confirmed Cases')\n",
    "plt.ylabel('Baseline % of Airport Traffic')\n",
    "\n",
    "reg = stats.linregress(confirmX, y)\n",
    "\n",
    "print(reg.rvalue)\n",
    "\n",
    "linearX = np.linspace(0, max(confirmX)) \n",
    "plt.plot(linearX, reg.slope*linearX + reg.intercept,'r-')\n",
    "\n",
    "# this is pretty interesting - strong indication of positive correlation"
   ]
  }
 ],
 "metadata": {
  "kernelspec": {
   "display_name": "Python 3",
   "language": "python",
   "name": "python3"
  },
  "language_info": {
   "codemirror_mode": {
    "name": "ipython",
    "version": 3
   },
   "file_extension": ".py",
   "mimetype": "text/x-python",
   "name": "python",
   "nbconvert_exporter": "python",
   "pygments_lexer": "ipython3",
   "version": "3.7.3"
  }
 },
 "nbformat": 4,
 "nbformat_minor": 2
}
