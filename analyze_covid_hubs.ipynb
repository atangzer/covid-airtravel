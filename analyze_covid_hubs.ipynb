{
 "cells": [
  {
   "cell_type": "code",
   "execution_count": null,
   "metadata": {},
   "outputs": [],
   "source": [
    "import numpy as np\n",
    "import pandas as pd\n",
    "import matplotlib.pyplot as plt\n",
    "import geopandas as gpd\n",
    "import shapely\n",
    "import seaborn as sns\n",
    "from scipy import stats\n",
    "import datetime\n",
    "sns.set()"
   ]
  },
  {
   "cell_type": "code",
   "execution_count": null,
   "metadata": {},
   "outputs": [],
   "source": [
    "#.csv files from Covid-Data/make_params_for_covid\n",
    "# NOTE: these files have been changed so there is no 'Unnamed' col, make sure you have the new ones\n",
    "# if you don't there will be errors!\n",
    "atlCases = pd.read_csv('Covid-Data/atlCases.csv', index_col =0, parse_dates = [6])\n",
    "jfkCases = pd.read_csv('Covid-Data/jfkCases.csv', index_col =0, parse_dates = [6])\n",
    "lgaCases = pd.read_csv('Covid-Data/lgaCases.csv', index_col =0, parse_dates = [6])\n",
    "seaCases = pd.read_csv('Covid-Data/seaCases.csv', index_col =0, parse_dates = [6])\n",
    "laxCases = pd.read_csv('Covid-Data/laxCases.csv', index_col =0, parse_dates = [6])\n",
    "yvrCases = pd.read_csv('Covid-Data/yvrCases.csv', index_col =0, parse_dates = [6])\n",
    "yegCases = pd.read_csv('Covid-Data/yegCases.csv', index_col =0, parse_dates = [6])\n",
    "yyzCases = pd.read_csv('Covid-Data/yyzCases.csv', index_col =0, parse_dates = [6])\n",
    "yulCases = pd.read_csv('Covid-Data/yulCases.csv', index_col =0, parse_dates = [6])"
   ]
  },
  {
   "cell_type": "code",
   "execution_count": null,
   "metadata": {},
   "outputs": [],
   "source": [
    "def makeTimestamp(x):\n",
    "    return x.timestamp()"
   ]
  },
  {
   "cell_type": "code",
   "execution_count": null,
   "metadata": {},
   "outputs": [],
   "source": [
    "# TODO: Do USA later."
   ]
  },
  {
   "cell_type": "markdown",
   "metadata": {},
   "source": [
    "# YVR (Trends in Covid Infections in BC)"
   ]
  },
  {
   "cell_type": "code",
   "execution_count": null,
   "metadata": {},
   "outputs": [],
   "source": [
    "#yvrCases = yvrCases.drop(columns = [\"Unnamed: 0\", \"Unnamed: 0.1\", \"Unnamed: 0.1.1\", \"Unnamed: 0.1.1.1\"])\n",
    "yvrCases.loc[0,\"Difference\"] = 0\n",
    "yvrCases[\"timestamp\"] = yvrCases[\"Date\"].apply(makeTimestamp)\n",
    "fit = stats.linregress(yvrCases[\"timestamp\"], yvrCases[\"Difference\"])\n",
    "yvrCases[\"Prediction\"] = yvrCases[\"timestamp\"] * fit.slope + fit.intercept\n",
    "fit.slope, fit.intercept"
   ]
  },
  {
   "cell_type": "code",
   "execution_count": null,
   "metadata": {},
   "outputs": [],
   "source": [
    "# Plot daily new cases \n",
    "plt.figure(figsize = (20,5))\n",
    "plt.ylim(-5,600)\n",
    "plt.xlabel(\"Mid-March to Mid October\")\n",
    "plt.ylabel(\"# of New Cases\")\n",
    "plt.plot(yvrCases[\"Date\"], yvrCases[\"Difference\"], 'b.', label = 'original data', alpha = 0.4)\n",
    "plt.plot(yvrCases[\"Date\"], yvrCases[\"Prediction\"], 'r-', label = 'predicted fit')\n",
    "plt.legend()\n",
    "#plt.show()\n",
    "\n",
    "yvrCases[\"Month\"] = yvrCases['Date'].dt.month_name()\n",
    "yvrCases.boxplot(column = ['Difference'], by = 'Month', rot = 90, fontsize = 10, figsize = (18,10))\n",
    "\n",
    "yvrCases.groupby(['Month'])[\"Difference\"].mean()\n",
    "%store yvrCases\n",
    "#yvrCases.to_csv('Covid-Data/yvr-modified.csv', mode = 'overwrite')"
   ]
  },
  {
   "cell_type": "code",
   "execution_count": null,
   "metadata": {},
   "outputs": [],
   "source": []
  },
  {
   "cell_type": "code",
   "execution_count": null,
   "metadata": {
    "scrolled": true
   },
   "outputs": [],
   "source": []
  },
  {
   "cell_type": "code",
   "execution_count": null,
   "metadata": {},
   "outputs": [],
   "source": []
  },
  {
   "cell_type": "markdown",
   "metadata": {},
   "source": [
    "# YEG"
   ]
  },
  {
   "cell_type": "code",
   "execution_count": null,
   "metadata": {},
   "outputs": [],
   "source": [
    "yegCases[\"Date\"] = pd.to_datetime(yegCases[\"Date\"])\n",
    "#yegCases = yegCases.drop(columns = [\"Unnamed: 0\", \"Unnamed: 0.1\", \"Unnamed: 0.1.1\", \"Unnamed: 0.1.1.1\"])\n",
    "yegCases.loc[0,\"Difference\"] = 0\n",
    "yegCases[\"timestamp\"] = yegCases[\"Date\"].apply(makeTimestamp)\n",
    "fit = stats.linregress(yegCases[\"timestamp\"], yegCases[\"Difference\"])\n",
    "yegCases[\"Prediction\"] = yegCases[\"timestamp\"] * fit.slope + fit.intercept\n",
    "fit.slope, fit.intercept"
   ]
  },
  {
   "cell_type": "code",
   "execution_count": null,
   "metadata": {},
   "outputs": [],
   "source": [
    "# Plot daily new cases \n",
    "plt.figure(figsize = (20,5))\n",
    "plt.ylim(-5,800)\n",
    "plt.xlabel(\"Mid-March to Mid October\")\n",
    "plt.ylabel(\"# of New Cases\")\n",
    "plt.plot(yegCases[\"Date\"], yegCases[\"Difference\"], 'b.', label = 'original data')\n",
    "plt.plot(yegCases[\"Date\"], yegCases[\"Prediction\"], 'r-', label = 'predicted fit')\n",
    "plt.legend()\n",
    "plt.show()"
   ]
  },
  {
   "cell_type": "code",
   "execution_count": null,
   "metadata": {},
   "outputs": [],
   "source": [
    "yegCases[\"Month\"] = yegCases['Date'].dt.month_name()\n",
    "yegCases.boxplot(column = ['Difference'], by = 'Month', rot = 90, fontsize = 10, figsize = (18,10))"
   ]
  },
  {
   "cell_type": "code",
   "execution_count": null,
   "metadata": {},
   "outputs": [],
   "source": []
  },
  {
   "cell_type": "markdown",
   "metadata": {},
   "source": [
    "# YYZ "
   ]
  },
  {
   "cell_type": "code",
   "execution_count": null,
   "metadata": {},
   "outputs": [],
   "source": [
    "yyzCases[\"Date\"] = pd.to_datetime(yyzCases[\"Date\"])\n",
    "#yyzCases = yyzCases.drop(columns = [\"Unnamed: 0\", \"Unnamed: 0.1\", \"Unnamed: 0.1.1\", \"Unnamed: 0.1.1.1\"])\n",
    "yyzCases.loc[0,\"Difference\"] = 0\n",
    "yyzCases[\"timestamp\"] = yyzCases[\"Date\"].apply(makeTimestamp)\n",
    "fit = stats.linregress(yyzCases[\"timestamp\"], yyzCases[\"Difference\"])\n",
    "yyzCases[\"Prediction\"] = yyzCases[\"timestamp\"] * fit.slope + fit.intercept\n",
    "fit.slope, fit.intercept"
   ]
  },
  {
   "cell_type": "code",
   "execution_count": null,
   "metadata": {},
   "outputs": [],
   "source": [
    "# Plot daily new cases \n",
    "plt.figure(figsize = (20,5))\n",
    "plt.ylim(-5,2000)\n",
    "plt.xlabel(\"Mid-March to Mid October\")\n",
    "plt.ylabel(\"# of New Cases\")\n",
    "plt.plot(yyzCases[\"Date\"], yyzCases[\"Difference\"], 'b-', label = 'original data', alpha = 0.4)\n",
    "plt.plot(yyzCases[\"Date\"], yyzCases[\"Prediction\"], 'r-', label = 'predicted fit')\n",
    "plt.legend()\n",
    "plt.show()"
   ]
  },
  {
   "cell_type": "code",
   "execution_count": null,
   "metadata": {},
   "outputs": [],
   "source": [
    "yyzCases[\"Month\"] = yyzCases['Date'].dt.month_name()\n",
    "yyzCases.boxplot(column = ['Difference'], by = 'Month', rot = 90, fontsize = 10, figsize = (18,10))"
   ]
  },
  {
   "cell_type": "markdown",
   "metadata": {},
   "source": [
    "# YUL"
   ]
  },
  {
   "cell_type": "code",
   "execution_count": null,
   "metadata": {},
   "outputs": [],
   "source": [
    "yulCases[\"Date\"] = pd.to_datetime(yulCases[\"Date\"])\n",
    "#yulCases = yulCases.drop(columns = [\"Unnamed: 0\", \"Unnamed: 0.1\", \"Unnamed: 0.1.1\", \"Unnamed: 0.1.1.1\"])\n",
    "yulCases.loc[0,\"Difference\"] = 0\n",
    "yulCases[\"timestamp\"] = yulCases[\"Date\"].apply(makeTimestamp)\n",
    "fit = stats.linregress(yulCases[\"timestamp\"], yulCases[\"Difference\"])\n",
    "yulCases[\"Prediction\"] = yulCases[\"timestamp\"] * fit.slope + fit.intercept\n",
    "fit.slope, fit.intercept"
   ]
  },
  {
   "cell_type": "code",
   "execution_count": null,
   "metadata": {},
   "outputs": [],
   "source": [
    "# Plot daily new cases \n",
    "plt.figure(figsize = (20,5))\n",
    "plt.ylim(-5,2500)\n",
    "plt.xlabel(\"Mid-March to Mid October\")\n",
    "plt.ylabel(\"# of New Cases\")\n",
    "plt.plot(yulCases[\"Date\"], yulCases[\"Difference\"], 'b-', label = 'original data', alpha = 0.4)\n",
    "plt.plot(yulCases[\"Date\"], yulCases[\"Prediction\"], 'r-', label = 'predicted fit')\n",
    "plt.legend()\n",
    "plt.show()"
   ]
  },
  {
   "cell_type": "code",
   "execution_count": null,
   "metadata": {},
   "outputs": [],
   "source": [
    "yulCases[\"Month\"] = yulCases['Date'].dt.month_name()\n",
    "yulCases.boxplot(column = ['Difference'], by = 'Month', rot = 90, fontsize = 10, figsize = (18,10))"
   ]
  },
  {
   "cell_type": "code",
   "execution_count": null,
   "metadata": {},
   "outputs": [],
   "source": []
  }
 ],
 "metadata": {
  "kernelspec": {
   "display_name": "Python 3",
   "language": "python",
   "name": "python3"
  },
  "language_info": {
   "codemirror_mode": {
    "name": "ipython",
    "version": 3
   },
   "file_extension": ".py",
   "mimetype": "text/x-python",
   "name": "python",
   "nbconvert_exporter": "python",
   "pygments_lexer": "ipython3",
   "version": "3.7.3"
  }
 },
 "nbformat": 4,
 "nbformat_minor": 2
}
