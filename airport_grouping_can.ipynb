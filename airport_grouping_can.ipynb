{
 "cells": [
  {
   "cell_type": "code",
   "execution_count": 1,
   "metadata": {},
   "outputs": [
    {
     "name": "stderr",
     "output_type": "stream",
     "text": [
      "/home/aytang/sfuhome/353project/airport_data_explore.py:144: SettingWithCopyWarning: \n",
      "A value is trying to be set on a copy of a slice from a DataFrame.\n",
      "Try using .loc[row_indexer,col_indexer] = value instead\n",
      "\n",
      "See the caveats in the documentation: http://pandas.pydata.org/pandas-docs/stable/indexing.html#indexing-view-versus-copy\n",
      "  canada['Date'] = pd.to_datetime(canada['Date'])\n"
     ]
    }
   ],
   "source": [
    "import numpy as np\n",
    "import pandas as pd\n",
    "import matplotlib.pyplot as plt\n",
    "import sys, os\n",
    "import analyze_covid\n",
    "import airport_data_explore\n",
    "\n",
    "# Unload stored dataframes from other notebooks within directory\n",
    "%store -r"
   ]
  },
  {
   "cell_type": "code",
   "execution_count": 2,
   "metadata": {},
   "outputs": [],
   "source": [
    "# Haversine Caluclation (Distance between two lat and lon coordinates) retrieved from:\n",
    "# https://stackoverflow.com/questions/27928/calculate-distance-between-two-latitude-longitude-points-haversine-formula/21623206\n",
    "\n",
    "def haversine(lat1, lon1, lat2, lon2):\n",
    "    p = np.pi / 180\n",
    "    a = 0.5 - np.cos((lat2 - lat1) * p) / 2 + np.cos(lat1 * p) * np.cos(lat2 * p) * (1 - np.cos((lon2 - lon1) * p )) / 2\n",
    "    n = 12742 * np.arcsin(np.sqrt(a))\n",
    "    return n  "
   ]
  },
  {
   "cell_type": "code",
   "execution_count": 4,
   "metadata": {},
   "outputs": [
    {
     "data": {
      "text/plain": [
       "array(['Ontario', 'British Columbia', 'Alberta', 'Quebec', 'Saskatchewan',\n",
       "       'Nova Scotia', 'Manitoba', 'New Brunswick',\n",
       "       'Newfoundland and Labrador', 'Prince Edward Island',\n",
       "       'Northwest Territories', 'Yukon'], dtype=object)"
      ]
     },
     "execution_count": 4,
     "metadata": {},
     "output_type": "execute_result"
    }
   ],
   "source": [
    "def getProv():\n",
    "    return caLocations['Province/State'].unique()\n",
    "getProv()"
   ]
  },
  {
   "cell_type": "code",
   "execution_count": 10,
   "metadata": {},
   "outputs": [],
   "source": [
    "def closest(prov):\n",
    "    d = []\n",
    "    \n",
    "    t = caLocations[caLocations[\"Province/State\"] == prov]\n",
    "    i = airportLocationsCA[airportLocationsCA[\"State\"] == prov]\n",
    "    size = len(t)\n",
    "    size2 = len(i)\n",
    "\n",
    "    for a in range(size2):\n",
    "        for s in range(size):\n",
    "            airport = {\n",
    "                    'country': t.iloc[s][\"Country/Region\"],\n",
    "                    'state/province': t.iloc[s][\"Province/State\"],\n",
    "                    'lat': t.iloc[s][\"Latitude\"],\n",
    "                    'long': t.iloc[s][\"Longitude\"],\n",
    "                    'airport': i.iloc[a][\"AirportName\"],\n",
    "                    'distance(km)': haversine(t.iloc[s][\"Latitude\"], t.iloc[s][\"Longitude\"], i.iloc[a][\"lat\"], i.iloc[a][\"long\"])\n",
    "                }\n",
    "            d.append(airport)\n",
    "    d = sorted(d, key = lambda x: x['distance(km)'])\n",
    "    return d"
   ]
  },
  {
   "cell_type": "code",
   "execution_count": 11,
   "metadata": {},
   "outputs": [
    {
     "data": {
      "text/plain": [
       "[{'country': 'Canada',\n",
       "  'state/province': 'Ontario',\n",
       "  'lat': 51.2538,\n",
       "  'long': -85.3232,\n",
       "  'airport': 'Toronto Pearson',\n",
       "  'distance(km)': 943.9968089808716},\n",
       " {'country': 'Canada',\n",
       "  'state/province': 'Ontario',\n",
       "  'lat': 51.2538,\n",
       "  'long': -85.3232,\n",
       "  'airport': 'Hamilton International',\n",
       "  'distance(km)': 986.1091587236414}]"
      ]
     },
     "execution_count": 11,
     "metadata": {},
     "output_type": "execute_result"
    }
   ],
   "source": [
    "def calcNearestAirport(prov):\n",
    "    d = []\n",
    "    for s in prov:\n",
    "        d.append(closest(prov))\n",
    "    return d[0]\n",
    "\n",
    "calcNearestAirport(\"Ontario\")"
   ]
  },
  {
   "cell_type": "code",
   "execution_count": 13,
   "metadata": {},
   "outputs": [
    {
     "data": {
      "text/html": [
       "<div>\n",
       "<style scoped>\n",
       "    .dataframe tbody tr th:only-of-type {\n",
       "        vertical-align: middle;\n",
       "    }\n",
       "\n",
       "    .dataframe tbody tr th {\n",
       "        vertical-align: top;\n",
       "    }\n",
       "\n",
       "    .dataframe thead th {\n",
       "        text-align: right;\n",
       "    }\n",
       "</style>\n",
       "<table border=\"1\" class=\"dataframe\">\n",
       "  <thead>\n",
       "    <tr style=\"text-align: right;\">\n",
       "      <th></th>\n",
       "      <th>airport</th>\n",
       "      <th>country</th>\n",
       "      <th>distance(km)</th>\n",
       "      <th>lat</th>\n",
       "      <th>long</th>\n",
       "      <th>state/province</th>\n",
       "    </tr>\n",
       "  </thead>\n",
       "  <tbody>\n",
       "    <tr>\n",
       "      <th>0</th>\n",
       "      <td>Toronto Pearson</td>\n",
       "      <td>Canada</td>\n",
       "      <td>943.996809</td>\n",
       "      <td>51.2538</td>\n",
       "      <td>-85.3232</td>\n",
       "      <td>Ontario</td>\n",
       "    </tr>\n",
       "    <tr>\n",
       "      <th>1</th>\n",
       "      <td>Hamilton International</td>\n",
       "      <td>Canada</td>\n",
       "      <td>986.109159</td>\n",
       "      <td>51.2538</td>\n",
       "      <td>-85.3232</td>\n",
       "      <td>Ontario</td>\n",
       "    </tr>\n",
       "    <tr>\n",
       "      <th>0</th>\n",
       "      <td>Vancouver International</td>\n",
       "      <td>Canada</td>\n",
       "      <td>591.327410</td>\n",
       "      <td>53.7267</td>\n",
       "      <td>-127.6476</td>\n",
       "      <td>British Columbia</td>\n",
       "    </tr>\n",
       "    <tr>\n",
       "      <th>0</th>\n",
       "      <td>Edmonton International</td>\n",
       "      <td>Canada</td>\n",
       "      <td>209.684551</td>\n",
       "      <td>53.9333</td>\n",
       "      <td>-116.5765</td>\n",
       "      <td>Alberta</td>\n",
       "    </tr>\n",
       "    <tr>\n",
       "      <th>1</th>\n",
       "      <td>Calgary International</td>\n",
       "      <td>Canada</td>\n",
       "      <td>357.768563</td>\n",
       "      <td>53.9333</td>\n",
       "      <td>-116.5765</td>\n",
       "      <td>Alberta</td>\n",
       "    </tr>\n",
       "    <tr>\n",
       "      <th>0</th>\n",
       "      <td>Montreal Mirabel</td>\n",
       "      <td>Canada</td>\n",
       "      <td>807.902649</td>\n",
       "      <td>52.9399</td>\n",
       "      <td>-73.5491</td>\n",
       "      <td>Quebec</td>\n",
       "    </tr>\n",
       "    <tr>\n",
       "      <th>1</th>\n",
       "      <td>Montreal Trudeau</td>\n",
       "      <td>Canada</td>\n",
       "      <td>830.972598</td>\n",
       "      <td>52.9399</td>\n",
       "      <td>-73.5491</td>\n",
       "      <td>Quebec</td>\n",
       "    </tr>\n",
       "    <tr>\n",
       "      <th>0</th>\n",
       "      <td>Halifax International</td>\n",
       "      <td>Canada</td>\n",
       "      <td>28.925848</td>\n",
       "      <td>44.6820</td>\n",
       "      <td>-63.7443</td>\n",
       "      <td>Nova Scotia</td>\n",
       "    </tr>\n",
       "    <tr>\n",
       "      <th>1</th>\n",
       "      <td>Halifax International</td>\n",
       "      <td>Canada</td>\n",
       "      <td>28.925848</td>\n",
       "      <td>44.6820</td>\n",
       "      <td>-63.7443</td>\n",
       "      <td>Nova Scotia</td>\n",
       "    </tr>\n",
       "    <tr>\n",
       "      <th>0</th>\n",
       "      <td>Winnipeg International</td>\n",
       "      <td>Canada</td>\n",
       "      <td>442.782434</td>\n",
       "      <td>53.7609</td>\n",
       "      <td>-98.8139</td>\n",
       "      <td>Manitoba</td>\n",
       "    </tr>\n",
       "  </tbody>\n",
       "</table>\n",
       "</div>"
      ],
      "text/plain": [
       "                   airport country  distance(km)      lat      long  \\\n",
       "0          Toronto Pearson  Canada    943.996809  51.2538  -85.3232   \n",
       "1   Hamilton International  Canada    986.109159  51.2538  -85.3232   \n",
       "0  Vancouver International  Canada    591.327410  53.7267 -127.6476   \n",
       "0   Edmonton International  Canada    209.684551  53.9333 -116.5765   \n",
       "1    Calgary International  Canada    357.768563  53.9333 -116.5765   \n",
       "0         Montreal Mirabel  Canada    807.902649  52.9399  -73.5491   \n",
       "1         Montreal Trudeau  Canada    830.972598  52.9399  -73.5491   \n",
       "0    Halifax International  Canada     28.925848  44.6820  -63.7443   \n",
       "1    Halifax International  Canada     28.925848  44.6820  -63.7443   \n",
       "0   Winnipeg International  Canada    442.782434  53.7609  -98.8139   \n",
       "\n",
       "     state/province  \n",
       "0           Ontario  \n",
       "1           Ontario  \n",
       "0  British Columbia  \n",
       "0           Alberta  \n",
       "1           Alberta  \n",
       "0            Quebec  \n",
       "1            Quebec  \n",
       "0       Nova Scotia  \n",
       "1       Nova Scotia  \n",
       "0          Manitoba  "
      ]
     },
     "execution_count": 13,
     "metadata": {},
     "output_type": "execute_result"
    }
   ],
   "source": [
    "provList = getProv()\n",
    "listDf = []\n",
    "\n",
    "for s in provList:\n",
    "    i = calcNearestAirport(s)\n",
    "    listDf.append(pd.DataFrame.from_dict(i))\n",
    "    \n",
    "main = pd.concat(listDf)\n",
    "main"
   ]
  },
  {
   "cell_type": "code",
   "execution_count": null,
   "metadata": {},
   "outputs": [],
   "source": [
    "# Canada data not very interesting. \n",
    "# TODO: Figure out what to do with it.\n",
    "# Missing territories/provinces. Figure out what to do with that"
   ]
  }
 ],
 "metadata": {
  "kernelspec": {
   "display_name": "Python 3",
   "language": "python",
   "name": "python3"
  },
  "language_info": {
   "codemirror_mode": {
    "name": "ipython",
    "version": 3
   },
   "file_extension": ".py",
   "mimetype": "text/x-python",
   "name": "python",
   "nbconvert_exporter": "python",
   "pygments_lexer": "ipython3",
   "version": "3.7.3"
  }
 },
 "nbformat": 4,
 "nbformat_minor": 2
}
